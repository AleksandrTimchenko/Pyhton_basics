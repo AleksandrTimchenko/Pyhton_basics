{
 "cells": [
  {
   "cell_type": "markdown",
   "metadata": {},
   "source": [
    "### 1. Создать класс TrafficLight (светофор).\n",
    "определить у него один атрибут color (цвет) и метод running (запуск);\n",
    "атрибут реализовать как приватный;\n",
    "в рамках метода реализовать переключение светофора в режимы: красный, жёлтый, зелёный;\n",
    "продолжительность первого состояния (красный) составляет 7 секунд, второго (жёлтый) — 2 секунды, третьего (зелёный) — на ваше усмотрение;\n",
    "переключение между режимами должно осуществляться только в указанном порядке (красный, жёлтый, зелёный);\n",
    "проверить работу примера, создав экземпляр и вызвав описанный метод."
   ]
  },
  {
   "cell_type": "code",
   "execution_count": 8,
   "metadata": {},
   "outputs": [
    {
     "name": "stdout",
     "output_type": "stream",
     "text": [
      "Режим светофора --  красный\n",
      "Режим светофора --  жёлтый\n",
      "Режим светофора --  зелёный\n"
     ]
    }
   ],
   "source": [
    "import time\n",
    "\n",
    "class TrafficLight:\n",
    "    __color = [\"красный\", \"жёлтый\", \"зелёный\"]\n",
    "\n",
    "    def running(self):\n",
    "        i = 0\n",
    "        for i in range(3):\n",
    "            print(f'Режим светофора --  {TrafficLight.__color[i]}')\n",
    "            if i == 0:\n",
    "                time.sleep(7)\n",
    "            if i == 1:\n",
    "                time.sleep(2)\n",
    "            if i == 2:\n",
    "                time.sleep(7)\n",
    "\n",
    "\n",
    "tl = TrafficLight()\n",
    "tl.running()"
   ]
  },
  {
   "cell_type": "markdown",
   "metadata": {},
   "source": [
    "### 2. Реализовать класс Road (дорога).\n",
    "определить атрибуты: length (длина), width (ширина);\n",
    "значения атрибутов должны передаваться при создании экземпляра класса;\n",
    "атрибуты сделать защищёнными;\n",
    "определить метод расчёта массы асфальта, необходимого для покрытия всей дороги;\n",
    "использовать формулу: длина*ширина*масса асфальта для покрытия одного кв. метра дороги асфальтом, толщиной в 1 см*число см толщины полотна;\n",
    "проверить работу метода.\n",
    "Например: 20 м * 5000 м * 25 кг * 5 см = 12500 т."
   ]
  },
  {
   "cell_type": "code",
   "execution_count": 3,
   "metadata": {},
   "outputs": [
    {
     "name": "stdin",
     "output_type": "stream",
     "text": [
      "Введите длину дороги, в метрах:  5000\n",
      "Введите ширну дороги, в метрах:  20\n"
     ]
    },
    {
     "name": "stdout",
     "output_type": "stream",
     "text": [
      "Масса асфальта = 12500.0 т\n"
     ]
    }
   ],
   "source": [
    "class Road:\n",
    "    depth = 5   # initial coverage depth (in sm)\n",
    "    mass_per_sq_m = 25  # initial mass per square meter (in kg)\n",
    "\n",
    "    def __init__(self, length, width):\n",
    "        self._length = length\n",
    "        self._width = width\n",
    "\n",
    "    def mass_count(self):\n",
    "        return (self._width * self._length * self.depth * self.mass_per_sq_m)/1000\n",
    "\n",
    "\n",
    "road_length = int(input(\"Введите длину дороги, в метрах: \"))\n",
    "road_width = int(input(\"Введите ширну дороги, в метрах: \"))\n",
    "road = Road(road_length, road_width)\n",
    "mass = road.mass_count()\n",
    "print(f'Масса асфальта = {mass} т')"
   ]
  },
  {
   "cell_type": "markdown",
   "metadata": {},
   "source": [
    "### 3. Реализовать базовый класс Worker (работник).\n",
    "определить атрибуты: name, surname, position (должность), income (доход);\n",
    "последний атрибут должен быть защищённым и ссылаться на словарь, содержащий элементы: оклад и премия, например, {\"wage\": wage, \"bonus\": bonus};\n",
    "создать класс Position (должность) на базе класса Worker;\n",
    "в классе Position реализовать методы получения полного имени сотрудника (get_full_name) и дохода с учётом премии (get_total_income);\n",
    "проверить работу примера на реальных данных: создать экземпляры класса Position, передать данные, проверить значения атрибутов, вызвать методы экземпляров."
   ]
  },
  {
   "cell_type": "code",
   "execution_count": 7,
   "metadata": {},
   "outputs": [
    {
     "name": "stdin",
     "output_type": "stream",
     "text": [
      "Введите имя сотрудника:  Антон\n",
      "Введите фамилию сотрудника:  Антоноа\n",
      "Введите должность сотрудника:  Менеджер по продажам\n",
      "Введите оклад:  20000\n",
      "Введите премию:  100000\n"
     ]
    },
    {
     "name": "stdout",
     "output_type": "stream",
     "text": [
      "Полное имя сотрудника: Антон Антоноа\n",
      "Должность сотрудника: Менеджер по продажам\n",
      "Полная зарплата сотрудника: 120000\n"
     ]
    }
   ],
   "source": [
    "class Worker:\n",
    "    def __init__(self, name, surname, position, income):\n",
    "        self._name = name\n",
    "        self._surname = surname\n",
    "        self.__position = position\n",
    "        self._income = income\n",
    "\n",
    "    def get_position(self):\n",
    "        return self.__position\n",
    "\n",
    "\n",
    "class Position(Worker):\n",
    "    def __init__(self, name, surname, position, income):\n",
    "        super().__init__(name, surname, position, income)\n",
    "\n",
    "    def get_full_name(self):\n",
    "        return \" \".join([self._name, self._surname])\n",
    "\n",
    "    def get_total_income(self):\n",
    "        return self._income[\"оклад\"] + self._income[\"премия\"]\n",
    "\n",
    "\n",
    "    \n",
    "worker_name = input(\"Введите имя сотрудника: \")\n",
    "worker_surname = input(\"Введите фамилию сотрудника: \")\n",
    "worker_position = input(\"Введите должность сотрудника: \")\n",
    "worker_wage = int(input(\"Введите оклад: \"))\n",
    "worker_bonus = int(input(\"Введите премию: \"))\n",
    "\n",
    "pos = Position(worker_name, worker_surname, worker_position, {\"оклад\": worker_wage, \"премия\": worker_bonus})\n",
    "print(f'Полное имя сотрудника: {pos.get_full_name()}')\n",
    "print(f'Должность сотрудника: {pos.get_position()}')\n",
    "print(f'Полная зарплата сотрудника: {pos.get_total_income()}')"
   ]
  },
  {
   "cell_type": "markdown",
   "metadata": {},
   "source": [
    "### 4. Реализуйте базовый класс Car.\n",
    "у класса должны быть следующие атрибуты: speed, color, name, is_police (булево). А также методы: go, stop, turn(direction), которые должны сообщать, что машина поехала, остановилась, повернула (куда);\n",
    "опишите несколько дочерних классов: TownCar, SportCar, WorkCar, PoliceCar;\n",
    "добавьте в базовый класс метод show_speed, который должен показывать текущую скорость автомобиля;\n",
    "для классов TownCar и WorkCar переопределите метод show_speed. При значении скорости свыше 60 (TownCar) и 40 (WorkCar) должно выводиться сообщение о превышении скорости.\n",
    "Создайте экземпляры классов, передайте значения атрибутов. Выполните доступ к атрибутам, выведите результат. Вызовите методы и покажите результат."
   ]
  },
  {
   "cell_type": "code",
   "execution_count": 10,
   "metadata": {},
   "outputs": [
    {
     "name": "stdout",
     "output_type": "stream",
     "text": [
      "Красный Городской авто в движении!\n",
      "Красный Городской авто изменил Лево!\n",
      "Красный Городской авто изменил Право!\n",
      "Текущая скорость автомобиля = 65!\n",
      "Превышена скорость в городе!\n",
      "Полицейская машина:  False\n",
      "Красный Городской авто остановлен!\n",
      "Жёлтый Рабочий авто в движении!\n",
      "Жёлтый Рабочий авто изменил Лево!\n",
      "Жёлтый Рабочий авто изменил Право!\n",
      "Текущая скорость автомобиля = 45!\n",
      "Превышена скорость рабочей машиной!\n",
      "Полицейская машина:  False\n",
      "Жёлтый Рабочий авто остановлен!\n",
      "Синий Полицейский авто в движении!\n",
      "Синий Полицейский авто изменил Лево!\n",
      "Синий Полицейский авто изменил Право!\n",
      "Текущая скорость автомобиля = 120!\n",
      "Полицейская машина:  True\n",
      "Синий Полицейский авто остановлен!\n"
     ]
    }
   ],
   "source": [
    "class Car:\n",
    "    def __init__(self, speed, color, name, is_police):\n",
    "        self._speed = speed\n",
    "        self.__color = color\n",
    "        self.__name = name\n",
    "        self.__is_police = is_police\n",
    "\n",
    "    def go(self):\n",
    "        print(f'{self.__color} {self.__name} в движении!')\n",
    "\n",
    "    def stop(self):\n",
    "        print(f'{self.__color} {self.__name} остановлен!')\n",
    "\n",
    "    def turn_direction(self, direction):\n",
    "        print(f'{self.__color} {self.__name} изменил {direction}!')\n",
    "\n",
    "    def show_speed(self):\n",
    "        print(f'Текущая скорость автомобиля = {self._speed}!')\n",
    "\n",
    "    def is_police_car(self):\n",
    "        return self.__is_police\n",
    "\n",
    "\n",
    "class TownCar(Car):\n",
    "    def __init__(self, speed, color, name):\n",
    "        super().__init__(speed, color, name, False)\n",
    "\n",
    "    def show_speed(self):\n",
    "        super().show_speed()\n",
    "        if self._speed > 60:\n",
    "            print(\"Превышена скорость в городе!\")\n",
    "\n",
    "\n",
    "class SportCar(Car):\n",
    "    def __init__(self, speed, color, name):\n",
    "        super().__init__(speed, color, name, False)\n",
    "\n",
    "\n",
    "class WorkCar(Car):\n",
    "    def __init__(self, speed, color, name):\n",
    "        super().__init__(speed, color, name, False)\n",
    "\n",
    "    def show_speed(self):\n",
    "        super().show_speed()\n",
    "        if self._speed > 40:\n",
    "            print(\"Превышена скорость рабочей машиной!\")\n",
    "\n",
    "\n",
    "class PoliceCar(Car):\n",
    "    def __init__(self, speed, color, name):\n",
    "        super().__init__(speed, color, name, True)\n",
    "\n",
    "\n",
    "def operations_with_car(car):\n",
    "    car.go()\n",
    "    car.turn_direction(\"Лево\")\n",
    "    car.turn_direction(\"Право\")\n",
    "    car.show_speed()\n",
    "    print(\"Полицейская машина: \", car.is_police_car())\n",
    "    car.stop()\n",
    "\n",
    "\n",
    "# Town car\n",
    "# speed = int(input(\"Input speed for town car: \"))\n",
    "# color = input(\"Input color for town car: \")\n",
    "# name = input(\"Input name for town car: \")\n",
    "speed = 65\n",
    "color = 'Красный'\n",
    "name = 'Городской авто'\n",
    "town_car = TownCar(speed, color, name)\n",
    "operations_with_car(town_car)\n",
    "# Work car\n",
    "# speed = int(input(\"Input speed for work car: \"))\n",
    "# color = input(\"Input color for work car: \")\n",
    "# name = input(\"Input name for work car: \")\n",
    "speed = 45\n",
    "color = 'Жёлтый'\n",
    "name = 'Рабочий авто'\n",
    "work_car = WorkCar(speed, color, name)\n",
    "operations_with_car(work_car)\n",
    "# Police car\n",
    "# speed = int(input(\"Input speed for police car: \"))\n",
    "# color = input(\"Input color for police car: \")\n",
    "# name = input(\"Input name for police car: \")\n",
    "speed = 120\n",
    "color = 'Синий'\n",
    "name = 'Полицейский авто'\n",
    "police_car = PoliceCar(speed, color, name)\n",
    "operations_with_car(police_car)\n",
    "    "
   ]
  },
  {
   "cell_type": "markdown",
   "metadata": {},
   "source": [
    "### 5. Реализовать класс Stationery (канцелярская принадлежность).\n",
    "определить в нём атрибут title (название) и метод draw (отрисовка). Метод выводит сообщение «Запуск отрисовки»;\n",
    "создать три дочерних класса Pen (ручка), Pencil (карандаш), Handle (маркер);\n",
    "в каждом классе реализовать переопределение метода draw. Для каждого класса метод должен выводить уникальное сообщение;\n",
    "создать экземпляры классов и проверить, что выведет описанный метод для каждого экземпляра."
   ]
  },
  {
   "cell_type": "code",
   "execution_count": 12,
   "metadata": {},
   "outputs": [
    {
     "name": "stdout",
     "output_type": "stream",
     "text": [
      "Родительский класс: Начинаем рисовать в родительском классе\n",
      "Класс Ручка: Начинаем рисовать в дочернем классе \"Ручка\"\n",
      "Класс Карандаш: Начинаем рисовать в дочернем классе \"Карандаш\"\n",
      "Класс Маркер: Начинаем рисовать в дочернем классе \"Маркер\"\n"
     ]
    }
   ],
   "source": [
    "class Stationery:\n",
    "    def __init__(self, title):\n",
    "        self._title = title\n",
    "\n",
    "    def draw(self):\n",
    "        print(f'{self._title}: Начинаем рисовать в родительском классе')\n",
    "\n",
    "\n",
    "class Pen(Stationery):\n",
    "    def draw(self):\n",
    "        print(f'{self._title}: Начинаем рисовать в дочернем классе \"Ручка\"')\n",
    "\n",
    "\n",
    "class Pencil(Stationery):\n",
    "    def draw(self):\n",
    "        print(f'{self._title}: Начинаем рисовать в дочернем классе \"Карандаш\"')\n",
    "\n",
    "\n",
    "class Handle(Stationery):\n",
    "    def draw(self):\n",
    "        print(f'{self._title}: Начинаем рисовать в дочернем классе \"Маркер\"')\n",
    "\n",
    "\n",
    "stationery = Stationery(\"Родительский класс\")\n",
    "stationery.draw()\n",
    "\n",
    "pen = Pen(\"Класс Ручка\")\n",
    "pen.draw()\n",
    "\n",
    "pencil = Pencil(\"Класс Карандаш\")\n",
    "pencil.draw()\n",
    "\n",
    "handle = Handle(\"Класс Маркер\")\n",
    "handle.draw()\n"
   ]
  },
  {
   "cell_type": "code",
   "execution_count": null,
   "metadata": {},
   "outputs": [],
   "source": []
  }
 ],
 "metadata": {
  "kernelspec": {
   "display_name": "Python 3",
   "language": "python",
   "name": "python3"
  },
  "language_info": {
   "codemirror_mode": {
    "name": "ipython",
    "version": 3
   },
   "file_extension": ".py",
   "mimetype": "text/x-python",
   "name": "python",
   "nbconvert_exporter": "python",
   "pygments_lexer": "ipython3",
   "version": "3.7.6"
  }
 },
 "nbformat": 4,
 "nbformat_minor": 4
}
