{
 "cells": [
  {
   "cell_type": "markdown",
   "metadata": {},
   "source": [
    "### 1. Реализовать класс Matrix (матрица). Обеспечить перегрузку конструктора класса (метод __init__()), который должен принимать данные (список списков) для формирования матрицы.\n",
    "Подсказка: матрица — система некоторых математических величин, расположенных в виде прямоугольной схемы.\n",
    "Примеры матриц: 3 на 2, 3 на 3, 2 на 4.\n",
    "\n",
    "31    32         3    5    32        3    5    8    3\n",
    "37    43         2    4    6         8    3    7    1\n",
    "51    86        -1   64   -8\n",
    "Следующий шаг — реализовать перегрузку метода __str__() для вывода матрицы в привычном виде.\n",
    "Далее реализовать перегрузку метода __add__() для реализации операции сложения двух объектов класса Matrix (двух матриц). Результатом сложения должна быть новая матрица.\n",
    "Подсказка: сложение элементов матриц выполнять поэлементно — первый элемент первой строки первой матрицы складываем с первым элементом первой строки второй матрицы и т.д."
   ]
  },
  {
   "cell_type": "code",
   "execution_count": 1,
   "metadata": {},
   "outputs": [
    {
     "name": "stdin",
     "output_type": "stream",
     "text": [
      "Введите количество строк:  2\n",
      "Введите количество столбцов:  4\n"
     ]
    },
    {
     "name": "stdout",
     "output_type": "stream",
     "text": [
      "Начальная матрица: \n",
      "20 11 12 4\n",
      "11 13 10 2\n",
      "\n",
      "Другая матрица: \n",
      "20 1 9 12\n",
      "8 20 8 10\n",
      "\n",
      "Результат: \n",
      "40 12 21 16\n",
      "19 33 18 12\n",
      "\n"
     ]
    }
   ],
   "source": [
    "import random as rnd\n",
    "\n",
    "class Matrix:\n",
    "    def __init__(self, matrix):\n",
    "        self.__matrix = matrix\n",
    "        self.__row_num = len(matrix)\n",
    "        self.__col_num = len(matrix[0])\n",
    "\n",
    "    def __str__(self):\n",
    "        res_str = \"\"\n",
    "        for row in self.__matrix:\n",
    "            res_str += \" \".join([str(num) for num in row]) + \"\\n\"\n",
    "        return res_str\n",
    "\n",
    "    def __add__(self, other):\n",
    "        res_matrix = [[]]\n",
    "        other_row_num = len(other.__matrix)\n",
    "        other_col_num = len(other.__matrix[0])\n",
    "        if self.__row_num == other_row_num and self.__col_num == other_col_num:\n",
    "            res_matrix = [[self.__matrix[j][i] + other.__matrix[j][i] for i in range(self.__col_num)] for j in range(self.__row_num)]\n",
    "        else:\n",
    "            print(\"Операция невозможна для матриц разных размеров!\")\n",
    "        return Matrix(res_matrix)\n",
    "\n",
    "\n",
    "numRows = int(input(\"Введите количество строк: \"))\n",
    "numCols = int(input(\"Введите количество столбцов: \"))\n",
    "list_of_lists = [[rnd.randint(0, 20) for _ in range(numCols)] for x in range(numRows)]\n",
    "matr = Matrix(list_of_lists)\n",
    "print(f'Начальная матрица: \\n{matr}')\n",
    "another_list_of_lists = [[rnd.randint(0, 20) for _ in range(numCols)] for x in range(numRows)]\n",
    "another_matr = Matrix(another_list_of_lists)\n",
    "print(f'Другая матрица: \\n{another_matr}')\n",
    "print(f'Результат: \\n{matr + another_matr}')"
   ]
  },
  {
   "cell_type": "markdown",
   "metadata": {},
   "source": [
    "### 2. Реализовать проект расчёта суммарного расхода ткани на производство одежды. Основная сущность (класс) этого проекта — одежда, которая может иметь определённое название. К типам одежды в этом проекте относятся пальто и костюм. У этих типов одежды существуют параметры: размер (для пальто) и рост (для костюма). Это могут быть обычные числа: V и H, соответственно.\n",
    "Для определения расхода ткани по каждому типу одежды использовать формулы: для пальто (V/6.5 + 0.5), для костюма (2*H + 0.3). Проверить работу этих методов на реальных данных.\n",
    "Реализовать общий подсчет расхода ткани. Проверить на практике полученные на этом уроке знания: реализовать абстрактные классы для основных классов проекта, проверить на практике работу декоратора @property."
   ]
  },
  {
   "cell_type": "code",
   "execution_count": 2,
   "metadata": {},
   "outputs": [
    {
     "name": "stdin",
     "output_type": "stream",
     "text": [
      "Введите размер для пальто:  48\n"
     ]
    },
    {
     "name": "stdout",
     "output_type": "stream",
     "text": [
      "Расход ткани для пальто размера 48: 7.884615384615385\n"
     ]
    },
    {
     "name": "stdin",
     "output_type": "stream",
     "text": [
      "Введите рост для костюма:  1.75\n"
     ]
    },
    {
     "name": "stdout",
     "output_type": "stream",
     "text": [
      "Расход ткани для костюма для роста 1.75: 3.8\n"
     ]
    }
   ],
   "source": [
    "class Clothes():\n",
    "    def get_tissue_consumption(self):\n",
    "        pass\n",
    "\n",
    "    @property\n",
    "    def tissue_consumption(self):\n",
    "        pass\n",
    "\n",
    "\n",
    "class Suit(Clothes):\n",
    "    def __init__(self, height):\n",
    "        self.__height = height\n",
    "\n",
    "    @property\n",
    "    def height(self):\n",
    "        return self.__height\n",
    "\n",
    "    def get_tissue_consumption(self):\n",
    "        return 2 * self.__height + 0.3\n",
    "\n",
    "    @property\n",
    "    def tissue_consumption(self):\n",
    "        return self.get_tissue_consumption()\n",
    "\n",
    "\n",
    "class Coat(Clothes):\n",
    "    def __init__(self, size):\n",
    "        self.__size = size\n",
    "\n",
    "    @property\n",
    "    def size(self):\n",
    "        return self.__size\n",
    "\n",
    "    def get_tissue_consumption(self):\n",
    "        return self.__size/6.5 + 0.5\n",
    "\n",
    "    @property\n",
    "    def tissue_consumption(self):\n",
    "        return self.get_tissue_consumption()\n",
    "\n",
    "\n",
    "size = int(input(\"Введите размер для пальто: \"))\n",
    "coat = Coat(size)\n",
    "print(f'Расход ткани для пальто размера {coat.size}: {coat.tissue_consumption}')\n",
    "\n",
    "height = float(input(\"Введите рост для костюма: \"))\n",
    "suit = Suit(height)\n",
    "print(f'Расход ткани для костюма для роста {suit.height}: {suit.tissue_consumption}')"
   ]
  },
  {
   "cell_type": "markdown",
   "metadata": {},
   "source": [
    "### 3. Реализовать программу работы с органическими клетками, состоящими из ячеек. Необходимо создать класс Клетка. В его конструкторе инициализировать параметр, соответствующий количеству ячеек клетки (целое число). В классе должны быть реализованы методы перегрузки арифметических операторов: сложение (__add__()), вычитание (__sub__()), умножение (__mul__()), деление (__truediv__()). Данные методы должны применяться только к клеткам и выполнять увеличение, уменьшение, умножение и целочисленное (с округлением до целого) деление клеток, соответственно.\n",
    "Сложение. Объединение двух клеток. При этом число ячеек общей клетки должно равняться сумме ячеек исходных двух клеток.\n",
    "Вычитание. Участвуют две клетки. Операцию необходимо выполнять только если разность количества ячеек двух клеток больше нуля, иначе выводить соответствующее сообщение.\n",
    "Умножение. Создаётся общая клетка из двух. Число ячеек общей клетки определяется как произведение количества ячеек этих двух клеток.\n",
    "Деление. Создаётся общая клетка из двух. Число ячеек общей клетки определяется как целочисленное деление количества ячеек этих двух клеток.\n",
    "\n",
    "В классе необходимо реализовать метод make_order(), принимающий экземпляр класса и количество ячеек в ряду. Данный метод позволяет организовать ячейки по рядам.\n",
    "Метод должен возвращать строку вида *****\\n*****\\n*****..., где количество ячеек между \\n равно переданному аргументу. Если ячеек на формирование ряда не хватает, то в последний ряд записываются все оставшиеся.\n",
    "Например, количество ячеек клетки равняется 12, количество ячеек в ряду — 5. Тогда метод make_order() вернёт строку: *****\\n*****\\n**.\n",
    "Или, количество ячеек клетки равняется 15, количество ячеек в ряду — 5. Тогда метод make_order() вернёт строку: *****\\n*****\\n*****.\n",
    "Подсказка: подробный список операторов для перегрузки доступен по ссылке."
   ]
  },
  {
   "cell_type": "code",
   "execution_count": 5,
   "metadata": {},
   "outputs": [
    {
     "name": "stdin",
     "output_type": "stream",
     "text": [
      "Введите количество ячеек 1й клетки:  5\n",
      "Введите количество ячеек 2й клетки:  4\n",
      "Введите количество ячеек 3й клетки:  3\n",
      "Введите количество ячеек 4й клетки:  6\n"
     ]
    },
    {
     "name": "stdout",
     "output_type": "stream",
     "text": [
      "Клетка 1 + Клетка 2 = 9 ячеек\n",
      "Клетка 2 - Клетка 3 = 1 ячеек\n",
      "Клетка 3 * Клетка 4 = 18 ячеек\n",
      "Клетка 4 / Клетка 1 = 1 ячеек\n"
     ]
    },
    {
     "name": "stdin",
     "output_type": "stream",
     "text": [
      "Введите количество ячеек ряду:  5\n"
     ]
    },
    {
     "name": "stdout",
     "output_type": "stream",
     "text": [
      "Организация ячеек по ряду для клетки 1: \n",
      "*****\n",
      "Организация ячеек по ряду для клетки 2: \n",
      "****\n",
      "Организация ячеек по ряду для клетки 3: \n",
      "***\n",
      "Организация ячеек по ряду для клетки 4: \n",
      "*****\n",
      "*\n"
     ]
    }
   ],
   "source": [
    "class Cell:\n",
    "    def __init__(self, count):\n",
    "        self.__count = count\n",
    "\n",
    "    @property\n",
    "    def count(self):\n",
    "        return self.__count\n",
    "\n",
    "    @count.setter\n",
    "    def count(self, count):\n",
    "        self.__count = count\n",
    "\n",
    "    def __add__(self, other):\n",
    "        return Cell(self.count + other.count)\n",
    "\n",
    "    def __sub__(self, other):\n",
    "        diff = self.count - other.count\n",
    "        if diff > 0:\n",
    "            return Cell(diff)\n",
    "        else:\n",
    "            print(\"Операция невозможна, так как разница отрицательна!\")\n",
    "            return None\n",
    "\n",
    "    def __mul__(self, other):\n",
    "        return Cell(self.count * other.count)\n",
    "\n",
    "    def __truediv__(self, other):\n",
    "        return Cell(int(self.count / other.count))\n",
    "\n",
    "    def __str__(self):\n",
    "        return f'{self.count} ячеек'\n",
    "\n",
    "    def make_order(self, cells_in_row):\n",
    "        full_rows = self.count // cells_in_row\n",
    "        mod_row = self.count % cells_in_row\n",
    "        str_full_rows = \"\\n\".join(['*' * cells_in_row for _ in range(full_rows)])\n",
    "        if mod_row != 0 and str_full_rows:\n",
    "            str_full_rows += \"\\n\"\n",
    "        str_full_rows += '*' * mod_row\n",
    "        return str_full_rows\n",
    "\n",
    "\n",
    "cell1 = Cell(int(input(\"Введите количество ячеек 1й клетки: \")))\n",
    "cell2 = Cell(int(input(\"Введите количество ячеек 2й клетки: \")))\n",
    "cell3 = Cell(int(input(\"Введите количество ячеек 3й клетки: \")))\n",
    "cell4 = Cell(int(input(\"Введите количество ячеек 4й клетки: \")))\n",
    "\n",
    "print(f'Клетка 1 + Клетка 2 = {cell1 + cell2}')\n",
    "print(f'Клетка 2 - Клетка 3 = {cell2 - cell3}')\n",
    "print(f'Клетка 3 * Клетка 4 = {cell3 * cell4}')\n",
    "print(f'Клетка 4 / Клетка 1 = {cell4 / cell1}')\n",
    "\n",
    "cells_in_row = int(input(\"Введите количество ячеек ряду: \"))\n",
    "print(f'Организация ячеек по ряду для клетки 1: \\n{cell1.make_order(cells_in_row)}')\n",
    "print(f'Организация ячеек по ряду для клетки 2: \\n{cell2.make_order(cells_in_row)}')\n",
    "print(f'Организация ячеек по ряду для клетки 3: \\n{cell3.make_order(cells_in_row)}')\n",
    "print(f'Организация ячеек по ряду для клетки 4: \\n{cell4.make_order(cells_in_row)}')\n"
   ]
  },
  {
   "cell_type": "code",
   "execution_count": null,
   "metadata": {},
   "outputs": [],
   "source": []
  }
 ],
 "metadata": {
  "kernelspec": {
   "display_name": "Python 3",
   "language": "python",
   "name": "python3"
  },
  "language_info": {
   "codemirror_mode": {
    "name": "ipython",
    "version": 3
   },
   "file_extension": ".py",
   "mimetype": "text/x-python",
   "name": "python",
   "nbconvert_exporter": "python",
   "pygments_lexer": "ipython3",
   "version": "3.7.6"
  }
 },
 "nbformat": 4,
 "nbformat_minor": 4
}
