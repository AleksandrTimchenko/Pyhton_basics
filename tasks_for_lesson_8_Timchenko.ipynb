{
 "cells": [
  {
   "cell_type": "markdown",
   "metadata": {},
   "source": [
    "### 1. Реализовать класс «Дата», функция-конструктор которого должна принимать дату в виде строки формата «день-месяц-год». В рамках класса реализовать два метода. Первый, с декоратором @classmethod. Он должен извлекать число, месяц, год и преобразовывать их тип к типу «Число». Второй, с декоратором @staticmethod, должен проводить валидацию числа, месяца и года (например, месяц — от 1 до 12). Проверить работу полученной структуры на реальных данных."
   ]
  },
  {
   "cell_type": "code",
   "execution_count": 2,
   "metadata": {},
   "outputs": [
    {
     "name": "stdin",
     "output_type": "stream",
     "text": [
      "Введите дату в формате dd-mm-yyyy:  27-12-22\n"
     ]
    },
    {
     "name": "stdout",
     "output_type": "stream",
     "text": [
      "Вы ввели день: 27 месяц: 12 год: 22\n"
     ]
    }
   ],
   "source": [
    "class Date:\n",
    "    def __init__(self, day):\n",
    "        self.day =day\n",
    "        \n",
    "    @classmethod\n",
    "    def day_to_int(cls, day):\n",
    "        list1_2 = day.split(\"-\")\n",
    "        if cls.ValidDay(list1_2): \n",
    "            list1_2 = [int(x) for x in list1_2]\n",
    "            print(f\"Вы ввели день: {list1_2[0]} месяц: {list1_2[1]} год: {list1_2[2]}\")\n",
    "        \n",
    "    @staticmethod\n",
    "    def ValidDay(list1_2):\n",
    "       \n",
    "        if len(list1_2) != 3:\n",
    "            print(\"Дата не верная, введены не все даныне\")\n",
    "        try:\n",
    "            if int(list1_2[0]) > 31:\n",
    "               print(\"Дата не верная, день не может быть больше 31\")\n",
    "               return False\n",
    "        except:\n",
    "            print(\"Дата не верная, День не правильно заполнен\")\n",
    "            return False\n",
    "        \n",
    "        try:\n",
    "            if int(list1_2[1]) > 12:\n",
    "               print(\"Дата не верная, месяц не может быть больше 12\")\n",
    "               return False\n",
    "        except:\n",
    "             print(\"Дата не верная, месяц не правильно заполнен\")\n",
    "             return False\n",
    "        try:\n",
    "             int(list1_2[2])\n",
    "        except:\n",
    "             print(\"Дата не верная, год не правильно заполнен\")\n",
    "             return False\n",
    "        return True\n",
    "\n",
    "day = input(\"Введите дату в формате dd-mm-yyyy: \")\n",
    "dat = Date(day)\n",
    "dat.day_to_int(day)"
   ]
  },
  {
   "cell_type": "markdown",
   "metadata": {},
   "source": [
    "### 2. Создайте собственный класс-исключение, обрабатывающий ситуацию деления на ноль. Проверьте его работу на данных, вводимых пользователем. При вводе нуля в качестве делителя программа должна корректно обработать эту ситуацию и не завершиться с ошибкой."
   ]
  },
  {
   "cell_type": "code",
   "execution_count": 4,
   "metadata": {},
   "outputs": [
    {
     "name": "stdout",
     "output_type": "stream",
     "text": [
      "На 0 делить нельзя!\n",
      "Результат деления 1.20\n"
     ]
    }
   ],
   "source": [
    "class division():\n",
    "    def __init__(self, num1, num2):\n",
    "        self.num1 = float(num1)\n",
    "        self.num2 = float(num2)\n",
    "\n",
    "    def func(self):\n",
    "        try:\n",
    "            return('Результат деления %.2f' % (self.num1/self.num2))\n",
    "        except ZeroDivisionError:\n",
    "            return \"На 0 делить нельзя!\"\n",
    "\n",
    "\n",
    "a = division(2,0)\n",
    "print(a.func())\n",
    "b = division(6,5)\n",
    "print(b.func())"
   ]
  },
  {
   "cell_type": "markdown",
   "metadata": {},
   "source": [
    "### 3. Создайте собственный класс-исключение, который должен проверять содержимое списка на наличие только чисел. Проверить работу исключения на реальном примере. Запрашивать у пользователя данные и заполнять список необходимо только числами. Класс-исключение должен контролировать типы данных элементов списка.\n",
    "Примечание: длина списка не фиксирована. Элементы запрашиваются бесконечно, пока пользователь сам не остановит работу скрипта, введя, например, команду «stop». При этом скрипт завершается, сформированный список с числами выводится на экран.\n",
    "Подсказка: для этого задания примем, что пользователь может вводить только числа и строки. Во время ввода пользователем очередного элемента необходимо реализовать проверку типа элемента. Вносить его в список, только если введено число. Класс-исключение должен не позволить пользователю ввести текст (не число) и отобразить соответствующее сообщение. При этом работа скрипта не должна завершаться."
   ]
  },
  {
   "cell_type": "code",
   "execution_count": 11,
   "metadata": {},
   "outputs": [
    {
     "name": "stdin",
     "output_type": "stream",
     "text": [
      "Введите чило, для прекращения введите stop:  12\n",
      "Введите чило, для прекращения введите stop:  33\n",
      "Введите чило, для прекращения введите stop:  22\n",
      "Введите чило, для прекращения введите stop:  sr\n"
     ]
    },
    {
     "name": "stdout",
     "output_type": "stream",
     "text": [
      "Не удалось преобразовать в число\n"
     ]
    },
    {
     "name": "stdin",
     "output_type": "stream",
     "text": [
      "Введите чило, для прекращения введите stop:  stop\n"
     ]
    },
    {
     "name": "stdout",
     "output_type": "stream",
     "text": [
      "результат: [12, 33, 22]\n"
     ]
    }
   ],
   "source": [
    "class num_in_str:\n",
    "    @staticmethod\n",
    "    def is_int(str1):\n",
    "        try:\n",
    "            i = int(str1)\n",
    "        except:             \n",
    "            print(\"Не удалось преобразовать в число\")  \n",
    "            return False\n",
    "        return True\n",
    "    \n",
    "str1 = \"\" \n",
    "list3 = []   \n",
    "while str1 != \"stop\":\n",
    "    str1 = input(\"Введите чило, для прекращения введите stop: \")\n",
    "    if str1 == \"stop\":\n",
    "        break\n",
    "    if num_in_str.is_int(str1):\n",
    "        list3.append(int(str1))    \n",
    "print(\"результат: \" + str(list3)) "
   ]
  },
  {
   "cell_type": "markdown",
   "metadata": {},
   "source": [
    "### 4. Начните работу над проектом «Склад оргтехники». Создайте класс, описывающий склад. А также класс «Оргтехника», который будет базовым для классов-наследников. Эти классы — конкретные типы оргтехники (принтер, сканер, ксерокс). В базовом классе определите параметры, общие для приведённых типов. В классах-наследниках реализуйте параметры, уникальные для каждого типа оргтехники."
   ]
  },
  {
   "cell_type": "code",
   "execution_count": 40,
   "metadata": {},
   "outputs": [],
   "source": [
    "class storage():\n",
    "    def __init__(self):\n",
    "        self.arr = []\n",
    "\n",
    "class tech():\n",
    "    def __init__(self, price, color, weight):\n",
    "        self.price = price\n",
    "        self. color = color\n",
    "        self.weight = weight\n",
    "\n",
    "class printer(tech):\n",
    "    def __init__(self, price, color, weight, speed):\n",
    "        super().__init__(price, color, weight)\n",
    "        self.speed = speed\n",
    "\n",
    "\n",
    "class scaner(tech):\n",
    "    def __init__(self, price, color, weight, lamp):\n",
    "        super().__init__(price, color, weight)\n",
    "        self.lamp = lamp\n",
    "\n",
    "class xerox(tech):\n",
    "    def __init__(self, price, color, weight, pages):\n",
    "        super().__init__(price, color, weight)\n",
    "        self.pages = pages\n",
    "\n",
    "pr = printer(100, \"белый\", 3.2, 16)\n",
    "sc = scaner(80, 'серый', 1.5, 20)"
   ]
  },
  {
   "cell_type": "markdown",
   "metadata": {},
   "source": [
    "### 5. Продолжить работу над первым заданием. Разработайте методы, которые отвечают за приём оргтехники на склад и передачу в определённое подразделение компании. Для хранения данных о наименовании и количестве единиц оргтехники, а также других данных, можно использовать любую подходящую структуру (например, словарь)."
   ]
  },
  {
   "cell_type": "code",
   "execution_count": 41,
   "metadata": {},
   "outputs": [
    {
     "name": "stdout",
     "output_type": "stream",
     "text": [
      "Был добавлен принтер  в количестве 4 шт. Актуальное состояние склада {'принтер': 7, 'сканер': 1, 'ксерокс': 0}\n",
      "Был добавлен сканер  в количестве 4 шт. Актуальное состояние склада {'принтер': 7, 'сканер': 5, 'ксерокс': 0}\n",
      "Был списан принтер  в количестве 2 шт. Актуальное состояние склада {'принтер': 5, 'сканер': 5, 'ксерокс': 0}\n"
     ]
    }
   ],
   "source": [
    "class storage():\n",
    "    def __init__(self):\n",
    "        self.arr = {\"принтер\": 3, \"сканер\": 1, \"ксерокс\": 0}\n",
    "\n",
    "    def acceptance(self, name, quantity):\n",
    "        self.name = name\n",
    "        self.quantity = int(quantity)\n",
    "\n",
    "        if self.name == 'принтер':\n",
    "                self.arr[\"принтер\"] = int(self.arr.get(\"принтер\")) + self.quantity\n",
    "        if self.name == 'сканер':\n",
    "                self.arr[\"сканер\"] = int(self.arr.get(\"сканер\")) + self.quantity\n",
    "        if self.name == 'ксерокс':\n",
    "                self.arr[\"ксерокс\"] = int(self.arr.get(\"ксерокс\")) + self.quantity\n",
    "        print(f'Был добавлен {self.name}  в количестве {self.quantity} шт. Актуальное состояние склада {self.arr}')\n",
    "\n",
    "    def write_off(self, name, quantity):\n",
    "        self.name = name\n",
    "        self.quantity = int(quantity)\n",
    "\n",
    "        if self.name == 'принтер':\n",
    "            self.arr[\"принтер\"] = int(self.arr.get(\"принтер\")) - self.quantity\n",
    "        if self.name == 'сканер':\n",
    "            self.arr[\"сканер\"] = int(self.arr.get(\"сканер\")) - self.quantity\n",
    "        if self.name == 'ксерокс':\n",
    "            self.arr[\"ксерокс\"] = int(self.arr.get(\"ксерокс\")) - self.quantity\n",
    "        print(f'Был списан {self.name}  в количестве {self.quantity} шт. Актуальное состояние склада {self.arr}')\n",
    "            \n",
    "class tech():\n",
    "    def __init__(self, price, color, weight):\n",
    "        self.price = price\n",
    "        self. color = color\n",
    "        self.weight = weight\n",
    "\n",
    "class printer(tech):\n",
    "    def __init__(self, price, color, weight, speed):\n",
    "        super().__init__(price, color, weight)\n",
    "        self.speed = speed\n",
    "\n",
    "\n",
    "class scaner(tech):\n",
    "    def __init__(self, price, color, weight, lamp):\n",
    "        super().__init__(price, color, weight)\n",
    "        self.lamp = lamp\n",
    "\n",
    "class xerox(tech):\n",
    "    def __init__(self, price, color, weight, pages):\n",
    "        super().__init__(price, color, weight)\n",
    "        self.pages = pages\n",
    "\n",
    "pr = printer(100, \"белый\", 3.2, 16)\n",
    "sc = scaner(80, 'серый', 1.5, 20)\n",
    "\n",
    "a = storage()\n",
    "\n",
    "a.acceptance(\"принтер\", 4)\n",
    "a.acceptance(\"сканер\", 4)\n",
    "a.write_off(\"принтер\", 2)"
   ]
  },
  {
   "cell_type": "markdown",
   "metadata": {},
   "source": [
    "### 6. Продолжить работу над вторым заданием. Реализуйте механизм валидации вводимых пользователем данных. Например, для указания количества принтеров, отправленных на склад, нельзя использовать строковый тип данных.\n",
    "Подсказка: постарайтесь реализовать в проекте «Склад оргтехники» максимум возможностей, изученных на уроках по ООП."
   ]
  },
  {
   "cell_type": "code",
   "execution_count": 42,
   "metadata": {},
   "outputs": [
    {
     "name": "stdout",
     "output_type": "stream",
     "text": [
      "Был добавлен принтер  в количестве 5 шт. Актуальное состояние склада {'принтер': 5, 'сканер': 0, 'ксерокс': 0}\n",
      "Был добавлен сканер  в количестве 4 шт. Актуальное состояние склада {'принтер': 5, 'сканер': 4, 'ксерокс': 0}\n",
      "Введены некорректные данные\n",
      "Был списан принтер  в количестве 2 шт. Актуальное состояние склада {'принтер': 3, 'сканер': 4, 'ксерокс': 0}\n"
     ]
    }
   ],
   "source": [
    "class storage():\n",
    "    def __init__(self):\n",
    "        self.arr = {\"принтер\": 0, \"сканер\": 0, \"ксерокс\": 0}\n",
    "\n",
    "    def acceptance(self, name, quantity):\n",
    "        self.quantity = quantity\n",
    "        self.name = name\n",
    "        try:\n",
    "            if self.name == 'принтер':\n",
    "                self.arr[\"принтер\"] = int(self.arr.get(\"принтер\")) + self.quantity\n",
    "            if self.name == 'сканер':\n",
    "                self.arr[\"сканер\"] = int(self.arr.get(\"сканер\")) + self.quantity\n",
    "            if self.name == 'ксерокс':\n",
    "                self.arr[\"ксерокс\"] = int(self.arr.get(\"ксерокс\")) + self.quantity\n",
    "            print(f'Был добавлен {self.name}  в количестве {self.quantity} шт. Актуальное состояние склада {self.arr}')\n",
    "        except ValueError:\n",
    "            print(\"Введены некорректные данные\")\n",
    "        except TypeError:\n",
    "            print(\"Введены некорректные данные\")\n",
    "\n",
    "    def write_off(self, name, quantity):\n",
    "        self.quantity = quantity\n",
    "        self.name = name\n",
    "\n",
    "        try:\n",
    "            if self.name == 'принтер':\n",
    "                self.arr[\"принтер\"] = int(self.arr.get(\"принтер\")) - quantity\n",
    "            if self.name == 'сканер':\n",
    "                self.arr[\"сканер\"] = int(self.arr.get(\"сканер\")) - quantity\n",
    "            if self.name == 'ксерокс':\n",
    "                self.arr[\"ксерокс\"] = int(self.arr.get(\"ксерокс\")) - quantity\n",
    "            print(f'Был списан {self.name}  в количестве {quantity} шт. Актуальное состояние склада {self.arr}')\n",
    "        except ValueError:\n",
    "            print(\"Введены некорректные данные\")\n",
    "        except TypeError:\n",
    "            print(\"Введены некорректные данные\")\n",
    "\n",
    "\n",
    "class tech():\n",
    "    def __init__(self, price, color, weight):\n",
    "        self.price = price\n",
    "        self. color = color\n",
    "        self.weight = weight\n",
    "\n",
    "class printer(tech):\n",
    "    def __init__(self, price, color, weight, speed):\n",
    "        super().__init__(price, color, weight)\n",
    "        self.speed = speed\n",
    "\n",
    "\n",
    "class scaner(tech):\n",
    "    def __init__(self, price, color, weight, lamp):\n",
    "        super().__init__(price, color, weight)\n",
    "        self.lamp = lamp\n",
    "\n",
    "class xerox(tech):\n",
    "    def __init__(self, price, color, weight, pages):\n",
    "        super().__init__(price, color, weight)\n",
    "        self.pages = pages\n",
    "\n",
    "pr = printer(100, \"белый\", 3.2, 16)\n",
    "sc = scaner(80, 'серый', 1.5, 20)\n",
    "\n",
    "a = storage()\n",
    "\n",
    "a.acceptance(\"принтер\", 5)\n",
    "a.acceptance(\"сканер\", 4)\n",
    "a.acceptance(\"сканер\", \"р\")\n",
    "\n",
    "a.write_off(\"принтер\", 2)"
   ]
  },
  {
   "cell_type": "markdown",
   "metadata": {},
   "source": [
    "### 7. Реализовать проект «Операции с комплексными числами». Создайте класс «Комплексное число». Реализуйте перегрузку методов сложения и умножения комплексных чисел. Проверьте работу проекта. Для этого создаёте экземпляры класса (комплексные числа), выполните сложение и умножение созданных экземпляров. Проверьте корректность полученного результата."
   ]
  },
  {
   "cell_type": "code",
   "execution_count": 43,
   "metadata": {},
   "outputs": [
    {
     "name": "stdout",
     "output_type": "stream",
     "text": [
      "z = 2 + 3 * i\n",
      "Сумма n1 и n2 равна\n",
      "z = 6 + 8 * i\n",
      "Произведение n1 и n2 равно\n",
      "z = -7 + 22 * i\n"
     ]
    }
   ],
   "source": [
    "class ComplexNumber:\n",
    "    def __init__(self, cel, mnim):\n",
    "        self.cel = cel\n",
    "        self.mnim = mnim\n",
    "\n",
    "    def __add__(self, other):\n",
    "        print(f'Сумма n1 и n2 равна')\n",
    "        return f'z = {self.cel + other.cel} + {self.mnim + other.mnim} * i'\n",
    "\n",
    "    def __mul__(self, other):\n",
    "        print(f'Произведение n1 и n2 равно')\n",
    "        return f'z = {(self.cel * other.cel - self.mnim * other.mnim)} + {self.cel * other.mnim + other.cel * self.mnim} * i'\n",
    "\n",
    "    def __str__(self):\n",
    "        return f'z = {self.cel} + {self.mnim} * i'\n",
    "n1 = ComplexNumber(2, 3)\n",
    "n2 = ComplexNumber(4, 5)\n",
    "print(n1)\n",
    "print(n1 + n2)\n",
    "print(n1 * n2)"
   ]
  },
  {
   "cell_type": "code",
   "execution_count": null,
   "metadata": {},
   "outputs": [],
   "source": []
  }
 ],
 "metadata": {
  "kernelspec": {
   "display_name": "Python 3",
   "language": "python",
   "name": "python3"
  },
  "language_info": {
   "codemirror_mode": {
    "name": "ipython",
    "version": 3
   },
   "file_extension": ".py",
   "mimetype": "text/x-python",
   "name": "python",
   "nbconvert_exporter": "python",
   "pygments_lexer": "ipython3",
   "version": "3.7.6"
  }
 },
 "nbformat": 4,
 "nbformat_minor": 4
}
