{
 "cells": [
  {
   "cell_type": "markdown",
   "metadata": {},
   "source": [
    "### 1. Реализовать функцию, принимающую два числа (позиционные аргументы) и выполняющую их деление. Числа запрашивать у пользователя, предусмотреть обработку ситуации деления на ноль."
   ]
  },
  {
   "cell_type": "code",
   "execution_count": 1,
   "metadata": {},
   "outputs": [
    {
     "name": "stdin",
     "output_type": "stream",
     "text": [
      "Введите x и y:  10 2\n"
     ]
    },
    {
     "name": "stdout",
     "output_type": "stream",
     "text": [
      "Результат деления x на y: 5.0\n"
     ]
    }
   ],
   "source": [
    "def division_op(x, y):\n",
    "    if(y!=0):\n",
    "        return x/y\n",
    "    else:\n",
    "        print('Делене на нуль.')\n",
    "        \n",
    "x, y = [float(x) for x in input('Введите x и y: ').split()]\n",
    "\n",
    "print(f'Результат деления x на y: {division_op(x,y)}')"
   ]
  },
  {
   "cell_type": "markdown",
   "metadata": {},
   "source": [
    "### 2. Выполнить функцию, которая принимает несколько параметров, описывающих данные пользователя: имя, фамилия, год рождения, город проживания, email, телефон. Функция должна принимать параметры как именованные аргументы. Осуществить вывод данных о пользователе одной строкой."
   ]
  },
  {
   "cell_type": "code",
   "execution_count": 5,
   "metadata": {},
   "outputs": [
    {
     "name": "stdin",
     "output_type": "stream",
     "text": [
      "User name:  Ivan\n",
      "User surname:  Ivanov\n",
      "User year of birth:  1990\n",
      "User city:  Moscow\n",
      "User email:  ivanov@ivan.iv\n",
      "User phone number:  +7 (495) 999-99-99\n"
     ]
    },
    {
     "name": "stdout",
     "output_type": "stream",
     "text": [
      "Ivan; Ivanov; 1990; Moscow; ivanov@ivan.iv; +7 (495) 999-99-99.\n"
     ]
    }
   ],
   "source": [
    "def user_info(name, surname, year_birth, city, email, phone_number):\n",
    "    a = name + '; ' + surname + '; ' + year_birth + '; ' + city + '; ' + email + '; ' + phone_number + '.'\n",
    "    print(a)\n",
    "    \n",
    "name = input(\"User name: \")\n",
    "surname = input(\"User surname: \")\n",
    "year = input(\"User year of birth: \")\n",
    "city = input(\"User city: \")\n",
    "email = input(\"User email: \")\n",
    "phone = input(\"User phone number: \")\n",
    "\n",
    "user_info(name, surname, year, city, email, phone)"
   ]
  },
  {
   "cell_type": "markdown",
   "metadata": {},
   "source": [
    "### 3. Реализовать функцию my_func(), которая принимает три позиционных аргумента и возвращает сумму наибольших двух аргументов."
   ]
  },
  {
   "cell_type": "code",
   "execution_count": 12,
   "metadata": {},
   "outputs": [
    {
     "name": "stdin",
     "output_type": "stream",
     "text": [
      "Введите x, y и z:  12 13 14\n"
     ]
    },
    {
     "name": "stdout",
     "output_type": "stream",
     "text": [
      "27.0\n"
     ]
    }
   ],
   "source": [
    "def my_func(x, y, z):\n",
    "    \n",
    "    list_nm = [x, y, z]\n",
    "    min1 = min(list_nm)\n",
    "    list_nm.remove(min1)\n",
    "    return sum(list_nm)\n",
    "\n",
    "x, y, z = [float(x) for x in input('Введите x, y и z: ').split()]\n",
    "print(my_func(x, y, z))"
   ]
  },
  {
   "cell_type": "markdown",
   "metadata": {},
   "source": [
    "### 4. Программа принимает действительное положительное число x и целое отрицательное число y. Выполните возведение числа x в степень y. Задание реализуйте в виде функции my_func(x, y). При решении задания нужно обойтись без встроенной функции возведения числа в степень."
   ]
  },
  {
   "cell_type": "code",
   "execution_count": 17,
   "metadata": {},
   "outputs": [
    {
     "name": "stdin",
     "output_type": "stream",
     "text": [
      "Введите действительное положительное число x:  250\n",
      "Введите целое отрицательное число y:  -7\n"
     ]
    },
    {
     "name": "stdout",
     "output_type": "stream",
     "text": [
      "1.6384e-17\n",
      "1.6383999999999995e-17\n"
     ]
    }
   ],
   "source": [
    "def root_extr(x, y):\n",
    "    a = x**y\n",
    "    return a\n",
    "\n",
    "def my_func(x, y):\n",
    "    a = 1.\n",
    "    for i in range(abs(y)):\n",
    "        a = a/x\n",
    "    return a\n",
    "\n",
    "x = float(input('Введите действительное положительное число x: '))\n",
    "y = int(input('Введите целое отрицательное число y: '))\n",
    "\n",
    "print(root_extr(x,y))\n",
    "print(my_func(x,y))"
   ]
  },
  {
   "cell_type": "markdown",
   "metadata": {},
   "source": [
    "### 5. Программа запрашивает у пользователя строку чисел, разделённых пробелом. При нажатии Enter должна выводиться сумма чисел. Пользователь может продолжить ввод чисел, разделённых пробелом и снова нажать Enter. Сумма вновь введённых чисел будет добавляться к уже подсчитанной сумме.\n",
    "### Но если вместо числа вводится специальный символ, выполнение программы завершается. Если специальный символ введён после нескольких чисел, то вначале нужно добавить сумму этих чисел к полученной ранее сумме и после этого завершить программу."
   ]
  },
  {
   "cell_type": "code",
   "execution_count": 37,
   "metadata": {},
   "outputs": [
    {
     "name": "stdin",
     "output_type": "stream",
     "text": [
      "Введите чтроку чисел:  10 15 22.3 4.5\n"
     ]
    },
    {
     "name": "stdout",
     "output_type": "stream",
     "text": [
      "51.8\n"
     ]
    },
    {
     "name": "stdin",
     "output_type": "stream",
     "text": [
      "Введите чтроку чисел:  12.5 11 5.08\n"
     ]
    },
    {
     "name": "stdout",
     "output_type": "stream",
     "text": [
      "80.38\n"
     ]
    },
    {
     "name": "stdin",
     "output_type": "stream",
     "text": [
      "Введите чтроку чисел:  9.1 q\n"
     ]
    },
    {
     "name": "stdout",
     "output_type": "stream",
     "text": [
      "89.47999999999999\n"
     ]
    }
   ],
   "source": [
    "def sum_of_num(lst):\n",
    "    a = list(map(float, lst))\n",
    "    b = sum(a)\n",
    "    return b\n",
    "\n",
    "exit_condition = False\n",
    "simbol = 'q'\n",
    "current_sum = 0.\n",
    "\n",
    "while exit_condition == False:\n",
    "    lst_nums = [x for x in input(\"Введите чтроку чисел: \").split()]\n",
    "    if(simbol in lst_nums):\n",
    "        lst_nums.remove(simbol)\n",
    "        current_sum = current_sum + sum_of_num(lst_nums)\n",
    "        print(current_sum)\n",
    "        exit_condition = True\n",
    "    else:\n",
    "        current_sum = current_sum + sum_of_num(lst_nums)\n",
    "        print(current_sum)"
   ]
  },
  {
   "cell_type": "markdown",
   "metadata": {},
   "source": [
    "### 6. Реализовать функцию int_func(), принимающую слова из маленьких латинских букв и возвращающую их же, но с прописной первой буквой. Например, print(int_func(‘text’)) -> Text."
   ]
  },
  {
   "cell_type": "code",
   "execution_count": 30,
   "metadata": {},
   "outputs": [
    {
     "name": "stdin",
     "output_type": "stream",
     "text": [
      "Введите слова маленькими латинскими буквами:  umbraculum caerulium mortis\n"
     ]
    },
    {
     "name": "stdout",
     "output_type": "stream",
     "text": [
      "['Umbraculum', 'Caerulium', 'Mortis']\n"
     ]
    }
   ],
   "source": [
    "def int_func(words):\n",
    "    return words.title()\n",
    "\n",
    "words = [int_func(x) for x in input(\"Введите слова маленькими латинскими буквами: \").split()]\n",
    "print(str(words))"
   ]
  },
  {
   "cell_type": "markdown",
   "metadata": {},
   "source": [
    "### 7. Продолжить работу над заданием. В программу должна попадать строка из слов, разделённых пробелом. Каждое слово состоит из латинских букв в нижнем регистре. Нужно сделать вывод исходной строки, но каждое слово должно начинаться с заглавной буквы. Используйте написанную ранее функцию int_func()."
   ]
  },
  {
   "cell_type": "code",
   "execution_count": 29,
   "metadata": {},
   "outputs": [
    {
     "name": "stdout",
     "output_type": "stream",
     "text": [
      "Umraculum Caerulium Mortis\n"
     ]
    }
   ],
   "source": [
    "words = int_func(('umraculum caerulium mortis'))\n",
    "print(str(words))"
   ]
  },
  {
   "cell_type": "code",
   "execution_count": null,
   "metadata": {},
   "outputs": [],
   "source": []
  }
 ],
 "metadata": {
  "kernelspec": {
   "display_name": "Python 3",
   "language": "python",
   "name": "python3"
  },
  "language_info": {
   "codemirror_mode": {
    "name": "ipython",
    "version": 3
   },
   "file_extension": ".py",
   "mimetype": "text/x-python",
   "name": "python",
   "nbconvert_exporter": "python",
   "pygments_lexer": "ipython3",
   "version": "3.7.6"
  }
 },
 "nbformat": 4,
 "nbformat_minor": 4
}
