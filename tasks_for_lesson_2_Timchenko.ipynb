{
 "cells": [
  {
   "cell_type": "markdown",
   "metadata": {},
   "source": [
    "### 1. Создать список и заполнить его элементами различных типов данных. Реализовать скрипт проверки типа данных каждого элемента. Использовать функцию type() для проверки типа. Элементы списка можно не запрашивать у пользователя, а указать явно, в программе."
   ]
  },
  {
   "cell_type": "code",
   "execution_count": 2,
   "metadata": {},
   "outputs": [
    {
     "name": "stdout",
     "output_type": "stream",
     "text": [
      "<class 'int'>\n",
      "<class 'str'>\n",
      "<class 'float'>\n",
      "<class 'bool'>\n",
      "<class 'list'>\n",
      "<class 'tuple'>\n",
      "<class 'NoneType'>\n"
     ]
    }
   ],
   "source": [
    "lst = [2, 'Hi', 2.5, False, [2,4,5,2,4], (10,21,1), None]\n",
    "\n",
    "for i in lst:\n",
    "    print(type(i))"
   ]
  },
  {
   "cell_type": "markdown",
   "metadata": {},
   "source": [
    "### 2. Для списка реализовать обмен значений соседних элементов. Значениями обмениваются элементы с индексами 0 и 1, 2 и 3 и т. д. При нечётном количестве элементов последний сохранить на своём месте. Для заполнения списка элементов нужно использовать функцию input()."
   ]
  },
  {
   "cell_type": "code",
   "execution_count": 3,
   "metadata": {},
   "outputs": [
    {
     "name": "stdout",
     "output_type": "stream",
     "text": [
      "['c', '2', 1, 23, None]\n"
     ]
    }
   ],
   "source": [
    "lst1 = ['2', 'c', 23, 1, None]\n",
    "lst2 = []\n",
    "len_lst1 = len(lst1)\n",
    "\n",
    "\n",
    "for i in range(0, len_lst1, 2):\n",
    "    if(i < len_lst1-1):\n",
    "        n_i = i+1\n",
    "        lst2.insert(i, lst1[n_i])\n",
    "        lst2.insert(n_i, lst1[i])\n",
    "    else:\n",
    "        lst2.append(lst1[-1])\n",
    "        \n",
    "print(lst2)        "
   ]
  },
  {
   "cell_type": "markdown",
   "metadata": {},
   "source": [
    "### 3. Пользователь вводит месяц в виде целого числа от 1 до 12. Сообщить, к какому времени года относится месяц (зима, весна, лето, осень). Напишите решения через list и dict."
   ]
  },
  {
   "cell_type": "code",
   "execution_count": 15,
   "metadata": {},
   "outputs": [
    {
     "name": "stdin",
     "output_type": "stream",
     "text": [
      "Введите номер месяца:  5\n"
     ]
    },
    {
     "name": "stdout",
     "output_type": "stream",
     "text": [
      "Месяц Май относится ко времени года - Весна\n"
     ]
    }
   ],
   "source": [
    "month_num = int(input('Введите номер месяца: '))\n",
    "\n",
    "Seasons = {12 : 'Зима', 1: 'Зима', 2 : 'Зима',\n",
    "          3 : 'Весна', 4 : 'Весна', 5 : 'Весна',\n",
    "          6 : 'Лето', 7 : 'Лето', 8 : 'Лето',\n",
    "          9 : 'Осень', 10 : 'Осень', 11 : 'Осень'}\n",
    "\n",
    "months = {12: 'Декабрь', 1 : 'Январь', 2 : 'Февраль', \n",
    "          3 : 'Март', 4 : 'Апрель', 5 : 'Май',\n",
    "         6 : 'Июнь', 7 : 'Июль', 8 : 'Август',\n",
    "         9 : 'Сентябрь', 10 : 'Октябрь', 11 : 'Ноябрь'}\n",
    "\n",
    "\n",
    "a = Seasons[month_num]\n",
    "\n",
    "print(f\"Месяц {months[month_num]} относится ко времени года - {a}\")"
   ]
  },
  {
   "cell_type": "markdown",
   "metadata": {},
   "source": [
    "### 4. Пользователь вводит строку из нескольких слов, разделённых пробелами. Вывести каждое слово с новой строки. Строки нужно пронумеровать. Если слово длинное, выводить только первые 10 букв в слове."
   ]
  },
  {
   "cell_type": "code",
   "execution_count": 18,
   "metadata": {},
   "outputs": [
    {
     "name": "stdin",
     "output_type": "stream",
     "text": [
      "Введите строку:  Ехал Грека через реку , а там флюгигенхаймен\n"
     ]
    },
    {
     "name": "stdout",
     "output_type": "stream",
     "text": [
      "0. Ехал\n",
      "1. Грека\n",
      "2. через\n",
      "3. реку\n",
      "4. ,\n",
      "5. а\n",
      "6. там\n",
      "7. флюгигенха\n"
     ]
    }
   ],
   "source": [
    "input_str = input('Введите строку: ').split()\n",
    "len_str = len(input_str)\n",
    "for i in range(len_str):\n",
    "    print(i, '. ', input_str[i][:10], sep=(''))"
   ]
  },
  {
   "cell_type": "markdown",
   "metadata": {},
   "source": [
    "### 5. Реализовать структуру «Рейтинг», представляющую собой набор натуральных чисел, который не возрастает. У пользователя нужно запрашивать новый элемент рейтинга. Если в рейтинге существуют элементы с одинаковыми значениями, то новый элемент с тем же значением должен разместиться после них."
   ]
  },
  {
   "cell_type": "code",
   "execution_count": 28,
   "metadata": {},
   "outputs": [
    {
     "name": "stdin",
     "output_type": "stream",
     "text": [
      "Введите новый элемент рейтинга:  8\n"
     ]
    },
    {
     "name": "stdout",
     "output_type": "stream",
     "text": [
      "[8, 7, 5, 3, 3, 2, 1]\n"
     ]
    }
   ],
   "source": [
    "origin_list = [7, 5, 3, 3, 2, 1]\n",
    "user_digit = int(input('Введите новый элемент рейтинга: '))\n",
    "\n",
    "if(user_digit in origin_list):\n",
    "    i = origin_list.index(user_digit)\n",
    "    count = origin_list.count(user_digit)\n",
    "    origin_list.insert(i + count, user_digit)\n",
    "else:\n",
    "    origin_list.append(user_digit)\n",
    "    origin_list.sort(reverse = True)\n",
    "\n",
    "print(origin_list)"
   ]
  },
  {
   "cell_type": "markdown",
   "metadata": {},
   "source": [
    "### 6. * Реализовать структуру данных «Товары». Она должна представлять собой список кортежей. Каждый кортеж хранит информацию об отдельном товаре. В кортеже должно быть два элемента — номер товара и словарь с параметрами, то есть характеристиками товара: название, цена, количество, единица измерения. Структуру нужно сформировать программно, запросив все данные у пользователя.\n",
    "Пример готовой структуры:\n",
    "[\n",
    "(1, {“название”: “компьютер”, “цена”: 20000, “количество”: 5, “eд”: “шт.”}),\n",
    "(2, {“название”: “принтер”, “цена”: 6000, “количество”: 2, “eд”: “шт.”}), \n",
    "(3, {“название”: “сканер”, “цена”: 2000, “количество”: 7, “eд”: “шт.”})\n",
    "]/n\n",
    "Необходимо собрать аналитику о товарах. Реализовать словарь, в котором каждый ключ — характеристика товара, \n",
    "например название, а значение — список значений-характеристик, например список названий товаров.\n",
    "Пример: /n\n",
    "{\n",
    "“название”: [“компьютер”, “принтер”, “сканер”],\n",
    "“цена”: [20000, 6000, 2000],\n",
    "“количество”: [5, 2, 7],\n",
    "“ед”: [“шт.”]\n",
    "}"
   ]
  },
  {
   "cell_type": "code",
   "execution_count": 3,
   "metadata": {},
   "outputs": [],
   "source": [
    "def inputWithType(inputKey):\n",
    "    strInput = input(\"Введите \" + inputKey + \" товара\" + \": \")\n",
    "    if inputKey == 'Количество':\n",
    "        return int(strInput)\n",
    "    elif inputKey == 'Цена':\n",
    "        return float(strInput)\n",
    "    else:\n",
    "        return strInput\n",
    "    "
   ]
  },
  {
   "cell_type": "code",
   "execution_count": 6,
   "metadata": {},
   "outputs": [
    {
     "name": "stdin",
     "output_type": "stream",
     "text": [
      "Введите название товара:  компьютер\n",
      "Введите цена товара:  20000\n",
      "Введите количество товара:  5\n",
      "Введите ед товара:  шт\n",
      "Продолжить ввод товаров? y/n:  y\n",
      "Введите название товара:  принтер\n",
      "Введите цена товара:  6000\n",
      "Введите количество товара:  2\n",
      "Введите ед товара:  шт\n",
      "Продолжить ввод товаров? y/n:  y\n",
      "Введите название товара:  сканер\n",
      "Введите цена товара:  2000\n",
      "Введите количество товара:  7\n",
      "Введите ед товара:  шт\n",
      "Продолжить ввод товаров? y/n:  y\n",
      "Введите название товара:  монитор\n",
      "Введите цена товара:  10000\n",
      "Введите количество товара:  10\n",
      "Введите ед товара:  шт\n",
      "Продолжить ввод товаров? y/n:  n\n"
     ]
    },
    {
     "name": "stdout",
     "output_type": "stream",
     "text": [
      "[(1, {'название': 'компьютер', 'цена': '20000', 'количество': '5', 'ед': 'шт'}), (2, {'название': 'принтер', 'цена': '6000', 'количество': '2', 'ед': 'шт'}), (3, {'название': 'сканер', 'цена': '2000', 'количество': '7', 'ед': 'шт'}), (4, {'название': 'монитор', 'цена': '10000', 'количество': '10', 'ед': 'шт'})]\n",
      "{'название': ['компьютер', 'принтер', 'сканер', 'монитор'], 'цена': ['10000', '20000', '2000', '6000'], 'количество': ['5', '7', '2', '10'], 'ед': ['шт']}\n"
     ]
    }
   ],
   "source": [
    "keys = ['название', 'цена', 'количество', 'ед']\n",
    "continueInput = True\n",
    "inputList = []\n",
    "while continueInput:\n",
    "    newElement = {k: inputWithType(k) for k in keys}\n",
    "    inputList.append(newElement)\n",
    "    continueInput = input('Продолжить ввод товаров? y/n: ') == 'y'\n",
    "listOfTuples = []\n",
    "for ind, element in enumerate(inputList):\n",
    "    listOfTuples.append((ind+1, element))\n",
    "print(listOfTuples)\n",
    "\n",
    "productAnalyticsMap = {k: list(set([el[k] for ind, el in listOfTuples])) for k in keys}\n",
    "print(productAnalyticsMap)"
   ]
  },
  {
   "cell_type": "code",
   "execution_count": 11,
   "metadata": {},
   "outputs": [
    {
     "name": "stdout",
     "output_type": "stream",
     "text": [
      "{'название': ['Принтер', 'Монитор', 'Сканер'], 'цена': [2000.0, 5000.0, 4000.0], 'количество': [2, 3, 6], 'ед': ['шт.']}\n"
     ]
    }
   ],
   "source": [
    "keys = ('название', 'цена', 'количество', 'ед')\n",
    "lst = [dict(zip(keys, ('Принтер', 2000.00, 6, 'шт.'))), dict(zip(keys, ('Сканер', 4000.00, 3, 'шт.'))), dict(zip(keys, ('Монитор', 5000.00, 2, 'шт.')))]\n",
    "lst_new = []\n",
    "for x in range(3):\n",
    "    v = (x + 1, lst[x])\n",
    "    lst_new.append(v)\n",
    "lst_new1, lst_new2 = [], []\n",
    "for x1 in keys:\n",
    "    lst_new2.clear()\n",
    "    for x2 in lst_new:\n",
    "        v2 = x2[1].get(x1)\n",
    "        lst_new2.append(v2)\n",
    "    lst_new1.append(list(set(lst_new2)).copy())\n",
    "dct1 = dict(zip(keys, lst_new1))\n",
    "print(dct1)"
   ]
  },
  {
   "cell_type": "code",
   "execution_count": null,
   "metadata": {},
   "outputs": [],
   "source": [
    "# Последние задание честно списал с разбора домашнего задания. Для чего служит функция zip()?"
   ]
  }
 ],
 "metadata": {
  "kernelspec": {
   "display_name": "Python 3",
   "language": "python",
   "name": "python3"
  },
  "language_info": {
   "codemirror_mode": {
    "name": "ipython",
    "version": 3
   },
   "file_extension": ".py",
   "mimetype": "text/x-python",
   "name": "python",
   "nbconvert_exporter": "python",
   "pygments_lexer": "ipython3",
   "version": "3.7.6"
  }
 },
 "nbformat": 4,
 "nbformat_minor": 4
}
