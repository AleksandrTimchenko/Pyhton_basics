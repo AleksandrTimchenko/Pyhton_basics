{
 "cells": [
  {
   "cell_type": "markdown",
   "metadata": {},
   "source": [
    "### 1. Создать программный файл в текстовом формате, записать в него построчно данные, вводимые пользователем. Об окончании ввода данных будет свидетельствовать пустая строка."
   ]
  },
  {
   "cell_type": "code",
   "execution_count": 2,
   "metadata": {},
   "outputs": [
    {
     "name": "stdin",
     "output_type": "stream",
     "text": [
      "Введите строку:  Hello,\n",
      "Введите строку:  World!\n",
      "Введите строку:  \n"
     ]
    },
    {
     "name": "stdout",
     "output_type": "stream",
     "text": [
      "['Hello,\\n', 'World!\\n']\n"
     ]
    }
   ],
   "source": [
    "strings = []\n",
    "while True:\n",
    "    line = input(\"Введите строку: \")\n",
    "    if line == '':\n",
    "        print(strings)\n",
    "        break\n",
    "    else:\n",
    "        newline = line + '\\n'\n",
    "        strings.append(newline)\n",
    "\n",
    "    with open(\"test_1.txt\", \"w\") as file_obj:\n",
    "        file_obj.writelines(strings)"
   ]
  },
  {
   "cell_type": "markdown",
   "metadata": {},
   "source": [
    "### 2. Создать текстовый файл (не программно), сохранить в нём несколько строк, выполнить подсчёт строк и слов в каждой строке."
   ]
  },
  {
   "cell_type": "code",
   "execution_count": 18,
   "metadata": {},
   "outputs": [],
   "source": [
    "few_strings = [\"Ехал\", \"Грека\", \"через\", \"реку,\", \n",
    "              \"видит Грека\", \"в реке\", \"рак,\",\n",
    "              \"сунул Грека руку в реку,\",\n",
    "              \"рак за руку\", \"Греку\", \"цап!\"]\n",
    "File = open('test_2.txt', 'w')\n",
    "for i in range(len(few_strings)):\n",
    "    File.write(few_strings[i] + '\\n')\n",
    "File.close()"
   ]
  },
  {
   "cell_type": "code",
   "execution_count": 19,
   "metadata": {},
   "outputs": [
    {
     "name": "stdout",
     "output_type": "stream",
     "text": [
      "Количество строк в файле: 11\n",
      "[1, 1, 1, 1, 2, 2, 1, 5, 3, 1, 1]\n"
     ]
    }
   ],
   "source": [
    "read_file = open('test_2.txt', 'r')\n",
    "print(f'Количество строк в файле: {len(read_file.readlines())}')\n",
    "\n",
    "count_lines = []\n",
    "with open('test_2.txt', 'r') as file_for_read:\n",
    "    for i in file_for_read:\n",
    "        num_words = len(i.split())\n",
    "        count_lines.append(num_words)\n",
    "\n",
    "print(count_lines)"
   ]
  },
  {
   "cell_type": "markdown",
   "metadata": {},
   "source": [
    "### 3. Создать текстовый файл (не программно). Построчно записать фамилии сотрудников и величину их окладов (не менее 10 строк). Определить, кто из сотрудников имеет оклад менее 20 тысяч, вывести фамилии этих сотрудников. Выполнить подсчёт средней величины дохода сотрудников."
   ]
  },
  {
   "cell_type": "code",
   "execution_count": 29,
   "metadata": {},
   "outputs": [],
   "source": [
    "employees = {'Иванов' : 18500., 'Петров' : 21000., 'Сидоров' : 15250., 'Васечкин' : 35000., 'Борисов' : 1000000., 'Тимофеев' : 40105.4,\n",
    "            'Климов' : 51347.82, 'Краснов' : 37640., 'Беляев' : 980650.}\n",
    "\n",
    "employees_file = open('test_3.txt', 'w')\n",
    "for last_name, salary in employees.items():\n",
    "    employees_file.write(last_name + ' : ' + str(salary) + '\\n')\n",
    "employees_file.close()"
   ]
  },
  {
   "cell_type": "code",
   "execution_count": 34,
   "metadata": {},
   "outputs": [
    {
     "name": "stdout",
     "output_type": "stream",
     "text": [
      "Иванов  -- сотрудник, получающий менее 20 000\n",
      "Сидоров  -- сотрудник, получающий менее 20 000\n",
      "Борисов . А Вы, батенька, зажрались!)\n",
      "Беляев . А Вы, батенька, зажрались!)\n",
      "Средняя зарплата составляет: 244388.136\n"
     ]
    }
   ],
   "source": [
    "with open('test_3.txt', 'r') as empl_list:\n",
    "    empl = {}\n",
    "    salary = 0\n",
    "    i = 0\n",
    "    for line in empl_list:\n",
    "        key,  value = line.split(':')\n",
    "        empl[key] = salary\n",
    "        salary = salary + float(value)\n",
    "        i = i+1\n",
    "        if(float(value) < 20000):\n",
    "            print(f'{key} -- сотрудник, получающий менее 20 000')\n",
    "        if(float(value) > 900000):\n",
    "            print(f'{key}. А Вы, батенька, зажрались!)')\n",
    "average = salary/i\n",
    "print(f'Средняя зарплата составляет: {average:.3f}')"
   ]
  },
  {
   "cell_type": "markdown",
   "metadata": {},
   "source": [
    "### 4. Создать (не программно) текстовый файл со следующим содержимым:\n",
    "One — 1\n",
    "Two — 2\n",
    "Three — 3\n",
    "Four — 4\n",
    "### Напишите программу, открывающую файл на чтение и считывающую построчно данные. При этом английские числительные должны заменяться на русские. Новый блок строк должен записываться в новый текстовый файл."
   ]
  },
  {
   "cell_type": "code",
   "execution_count": 33,
   "metadata": {},
   "outputs": [],
   "source": [
    "data_list = ['One - 1', 'Two - 2','Three - 3','Four - 4']\n",
    "data = open('test_4.txt', 'w')\n",
    "for i in range(len(data_list)):\n",
    "    data.write(str(data_list[i]) + \"\\n\") \n",
    "data.close()"
   ]
  },
  {
   "cell_type": "code",
   "execution_count": 46,
   "metadata": {},
   "outputs": [],
   "source": [
    "translate = {'One' : 'Один', 'Two' : 'Два', 'Three' : 'Три', 'Four' : 'Четыре'}\n",
    "lst1 = []\n",
    "with open('test_4.txt', 'r') as data:\n",
    "    for line in data:\n",
    "        key, value = line.split('-')\n",
    "        string = line.replace(key.strip(), translate[key.strip()])\n",
    "        lst1.append(string)\n",
    "data.close()\n",
    "        \n",
    "with open('new_file_test_4.txt', 'w') as new_file:\n",
    "    for i in range(len(lst1)):\n",
    "        new_file.write(str(lst1[i])) \n",
    "new_file.close()"
   ]
  },
  {
   "cell_type": "markdown",
   "metadata": {},
   "source": [
    "### 5. Создать (программно) текстовый файл, записать в него программно набор чисел, разделённых пробелами. Программа должна подсчитывать сумму чисел в файле и выводить её на экран."
   ]
  },
  {
   "cell_type": "code",
   "execution_count": 47,
   "metadata": {},
   "outputs": [
    {
     "name": "stdout",
     "output_type": "stream",
     "text": [
      "126\n"
     ]
    }
   ],
   "source": [
    "import random as rnd\n",
    "\n",
    "initial_list = [rnd.randint(0, 30) for _ in range(10)]\n",
    "file_with_numbers = open(\"test_5.txt\", \"w+\")\n",
    "\n",
    "for i in initial_list:\n",
    "    file_with_numbers.write(str(i) + \" \")\n",
    "    \n",
    "file_with_numbers.seek(0)\n",
    "\n",
    "file_sum = 0\n",
    "\n",
    "numbers_read_from_file = list(map(int, file_with_numbers.read().split()))\n",
    "\n",
    "file_with_numbers.close()\n",
    "\n",
    "print(sum(numbers_read_from_file))"
   ]
  },
  {
   "cell_type": "markdown",
   "metadata": {},
   "source": [
    "### 6. Сформировать (не программно) текстовый файл. В нём каждая строка должна описывать учебный предмет и наличие лекционных, практических и лабораторных занятий по предмету. Сюда должно входить и количество занятий. Необязательно, чтобы для каждого предмета были все типы занятий.\n",
    "### Сформировать словарь, содержащий название предмета и общее количество занятий по нему. Вывести его на экран.\n",
    "Примеры строк файла: Информатика: 100(л) 50(пр) 20(лаб).\n",
    "Физика: 30(л) — 10(лаб)\n",
    "Физкультура: — 30(пр) —\n",
    "Пример словаря: {“Информатика”: 170, “Физика”: 40, “Физкультура”: 30}"
   ]
  },
  {
   "cell_type": "code",
   "execution_count": 49,
   "metadata": {},
   "outputs": [],
   "source": [
    "data_list = ['Физика 100 50 20', 'Информатика: 30 10 0', 'Физкультура: 0 30 0', 'Литература: 10 10 0']\n",
    "write_file = open('test_6.txt', 'w')\n",
    "for i in range(len(data_list)):\n",
    "    write_file.write(str(data_list[i]) + \"\\n\") \n",
    "write_file.close()    "
   ]
  },
  {
   "cell_type": "code",
   "execution_count": 55,
   "metadata": {},
   "outputs": [
    {
     "name": "stdout",
     "output_type": "stream",
     "text": [
      "Общее количество часов по предмету: {'Физика': 170, 'Информатика:': 40, 'Физкультура:': 30, 'Литература:': 20}\n"
     ]
    }
   ],
   "source": [
    "sub = {}\n",
    "with open('test_6.txt', 'r') as school_sub:\n",
    "    for line in school_sub:\n",
    "        subject, lecture, practice, lab = line.split()\n",
    "        sub[subject] = int(lecture) + int(practice) + int(lab)\n",
    "    print(f'Общее количество часов по предмету: {sub}')"
   ]
  },
  {
   "cell_type": "markdown",
   "metadata": {},
   "source": [
    "### 7. Создать вручную и заполнить несколькими строками текстовый файл, в котором каждая строка будет содержать данные о фирме: название, форма собственности, выручка, издержки.\n",
    "Пример строки файла: firm_1 ООО 10000 5000.\n",
    "\n",
    "Необходимо построчно прочитать файл, вычислить прибыль каждой компании, а также среднюю прибыль. Если фирма получила убытки, в расчёт средней прибыли её не включать.\n",
    "Далее реализовать список. Он должен содержать словарь с фирмами и их прибылями, а также словарь со средней прибылью. Если фирма получила убытки, также добавить её в словарь (со значением убытков).\n",
    "Пример списка: [{“firm_1”: 5000, “firm_2”: 3000, “firm_3”: 1000}, {“average_profit”: 2000}].\n",
    "\n",
    "Итоговый список сохранить в виде json-объекта в соответствующий файл.\n",
    "Пример json-объекта:\n",
    "[{\"firm_1\": 5000, \"firm_2\": 3000, \"firm_3\": 1000}, {\"average_profit\": 2000}]\n",
    "Подсказка: использовать менеджер контекста."
   ]
  },
  {
   "cell_type": "code",
   "execution_count": 56,
   "metadata": {},
   "outputs": [],
   "source": [
    "data_list = ['firm1 OOO 10000 5000', 'firm2 ZAO 2000000 5000000', 'firm3 IP 30000 5000', 'firm4 OOO 10010 10000']\n",
    "write_file = open('test_7.txt', 'w')\n",
    "for i in range(len(data_list)):\n",
    "    write_file.write(str(data_list[i]) + \"\\n\") \n",
    "write_file.close()    "
   ]
  },
  {
   "cell_type": "code",
   "execution_count": 58,
   "metadata": {},
   "outputs": [
    {
     "name": "stdout",
     "output_type": "stream",
     "text": [
      "Прибыль средняя - 10003.33\n",
      "Прибыль каждой компании - {'firm1': 5000, 'firm2': -3000000, 'firm3': 25000, 'firm4': 10, 'средняя прибыль': 10003}\n",
      "Создан файл с расширением json со следующим содержимым: \n",
      "  {\"firm1\": 5000, \"firm2\": -3000000, \"firm3\": 25000, \"firm4\": 10, \"\\u0441\\u0440\\u0435\\u0434\\u043d\\u044f\\u044f \\u043f\\u0440\\u0438\\u0431\\u044b\\u043b\\u044c\": 10003}\n"
     ]
    }
   ],
   "source": [
    "import json\n",
    "profit = {}\n",
    "pr = {}\n",
    "prof = 0\n",
    "prof_aver = 0\n",
    "i = 0\n",
    "with open('test_7.txt', 'r') as file:\n",
    "    for line in file:\n",
    "        name, firm, revenue, cost = line.split()\n",
    "        profit[name] = int(revenue) - int(cost)\n",
    "        if profit.setdefault(name) >= 0:\n",
    "            prof = prof + profit.setdefault(name)\n",
    "            i += 1\n",
    "    if i != 0:\n",
    "        prof_aver = prof / i\n",
    "        print(f'Прибыль средняя - {prof_aver:.2f}')\n",
    "    else:\n",
    "        print('Прибыль средняя - отсутствует. Все работают в убыток')\n",
    "    pr = {'средняя прибыль': round(prof_aver)}\n",
    "    profit.update(pr)\n",
    "    print(f'Прибыль каждой компании - {profit}')\n",
    "\n",
    "with open('test_7.json', 'w', encoding = 'utf-8') as write_js:\n",
    "    json.dump(profit, write_js, ensure_ascii=False)\n",
    "    js_str = json.dumps(profit)\n",
    "    print(f'Создан файл с расширением json со следующим содержимым: \\n '\n",
    "          f' {js_str}')"
   ]
  },
  {
   "cell_type": "code",
   "execution_count": null,
   "metadata": {},
   "outputs": [],
   "source": []
  }
 ],
 "metadata": {
  "kernelspec": {
   "display_name": "Python 3",
   "language": "python",
   "name": "python3"
  },
  "language_info": {
   "codemirror_mode": {
    "name": "ipython",
    "version": 3
   },
   "file_extension": ".py",
   "mimetype": "text/x-python",
   "name": "python",
   "nbconvert_exporter": "python",
   "pygments_lexer": "ipython3",
   "version": "3.7.6"
  }
 },
 "nbformat": 4,
 "nbformat_minor": 4
}
